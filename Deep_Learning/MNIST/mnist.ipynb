{
 "cells": [
  {
   "cell_type": "code",
   "execution_count": 1,
   "metadata": {},
   "outputs": [],
   "source": [
    "import matplotlib.pyplot as plt\n",
    "import pandas as pd\n",
    "from keras.models import Sequential\n",
    "from keras.layers import Dense, Dropout\n",
    "from keras.utils import np_utils\n",
    "import numpy as np\n",
    "from sklearn.metrics import confusion_matrix, accuracy_score\n",
    "from keras.datasets import mnist"
   ]
  },
  {
   "cell_type": "code",
   "execution_count": 2,
   "metadata": {},
   "outputs": [
    {
     "data": {
      "text/plain": [
       "Text(0.5, 1.0, '7')"
      ]
     },
     "execution_count": 2,
     "metadata": {},
     "output_type": "execute_result"
    },
    {
     "data": {
      "image/png": "[encoded data removed]",
      "text/plain": [
       "<Figure size 640x480 with 1 Axes>"
      ]
     },
     "metadata": {},
     "output_type": "display_data"
    }
   ],
   "source": [
    "#Obtaining data and automatically dividing between training and testing\n",
    "(x_train, y_train), (x_test, y_test) = mnist.load_data()\n",
    "\n",
    "#Visualizing the training image\n",
    "plt.imshow(x_train[15], cmap = 'gray')\n",
    "plt.title(y_train[15])"
   ]
  },
  {
   "cell_type": "code",
   "execution_count": 3,
   "metadata": {},
   "outputs": [],
   "source": [
    "# Dimension change, originally at 28x28 and we need 784 = 28*28\n",
    "x_train = x_train.reshape((len(x_train), np.prod(x_train.shape[1:])))\n",
    "x_test = x_test.reshape((len(x_test), np.prod(x_test.shape[1:])))\n"
   ]
  },
  {
   "cell_type": "code",
   "execution_count": 4,
   "metadata": {},
   "outputs": [],
   "source": [
    "# Transformation of data in floating point format \n",
    "x_train = x_train.astype('float32')\n",
    "x_test = x_test.astype('float32')\n",
    "\n",
    "# Normalization\n",
    "x_train = x_train/255\n",
    "x_test = x_test/255"
   ]
  },
  {
   "cell_type": "code",
   "execution_count": 5,
   "metadata": {},
   "outputs": [],
   "source": [
    "# Transformation to dummy format (10 classes)\n",
    "y_train = np_utils.to_categorical(y_train, 10)\n",
    "y_test = np_utils.to_categorical(y_test, 10)"
   ]
  },
  {
   "cell_type": "code",
   "execution_count": 6,
   "metadata": {},
   "outputs": [
    {
     "name": "stdout",
     "output_type": "stream",
     "text": [
      "Model: \"sequential\"\n",
      "_________________________________________________________________\n",
      " Layer (type)                Output Shape              Param #   \n",
      "=================================================================\n",
      " dense (Dense)               (None, 64)                50240     \n",
      "                                                                 \n",
      " dropout (Dropout)           (None, 64)                0         \n",
      "                                                                 \n",
      " dense_1 (Dense)             (None, 64)                4160      \n",
      "                                                                 \n",
      " dropout_1 (Dropout)         (None, 64)                0         \n",
      "                                                                 \n",
      " dense_2 (Dense)             (None, 64)                4160      \n",
      "                                                                 \n",
      " dropout_2 (Dropout)         (None, 64)                0         \n",
      "                                                                 \n",
      " dense_3 (Dense)             (None, 10)                650       \n",
      "                                                                 \n",
      "=================================================================\n",
      "Total params: 59,210\n",
      "Trainable params: 59,210\n",
      "Non-trainable params: 0\n",
      "_________________________________________________________________\n"
     ]
    }
   ],
   "source": [
    "# Neural network structure: 784 - 64 - 64 - 64 - 10\n",
    "#Dropout is used to reset a percentage of neurons to prevent overfitting\n",
    "NN_model = Sequential()\n",
    "NN_model.add(Dense(units = 64, activation = 'relu', input_dim = 784))\n",
    "NN_model.add(Dropout(0.2))\n",
    "NN_model.add(Dense(units = 64, activation = 'relu'))\n",
    "NN_model.add(Dropout(0.2))\n",
    "NN_model.add(Dense(units = 64, activation = 'relu'))\n",
    "NN_model.add(Dropout(0.2))\n",
    "#Output layer, softmax probability\n",
    "NN_model.add(Dense(units = 10, activation = 'softmax'))\n",
    "\n",
    "# Neural network visualization\n",
    "NN_model.summary()"
   ]
  },
  {
   "cell_type": "code",
   "execution_count": 7,
   "metadata": {},
   "outputs": [
    {
     "name": "stdout",
     "output_type": "stream",
     "text": [
      "Epoch 1/50\n",
      "1875/1875 [==============================] - 5s 2ms/step - loss: 0.4420 - accuracy: 0.8651 - val_loss: 0.1504 - val_accuracy: 0.9522\n",
      "Epoch 2/50\n",
      "1875/1875 [==============================] - 4s 2ms/step - loss: 0.2344 - accuracy: 0.9318 - val_loss: 0.1244 - val_accuracy: 0.9630\n",
      "Epoch 3/50\n",
      "1875/1875 [==============================] - 4s 2ms/step - loss: 0.1930 - accuracy: 0.9439 - val_loss: 0.1341 - val_accuracy: 0.9599\n",
      "Epoch 4/50\n",
      "1875/1875 [==============================] - 4s 2ms/step - loss: 0.1666 - accuracy: 0.9510 - val_loss: 0.1173 - val_accuracy: 0.9661\n",
      "Epoch 5/50\n",
      "1875/1875 [==============================] - 4s 2ms/step - loss: 0.1527 - accuracy: 0.9554 - val_loss: 0.0967 - val_accuracy: 0.9712\n",
      "Epoch 6/50\n",
      "1875/1875 [==============================] - 4s 2ms/step - loss: 0.1405 - accuracy: 0.9588 - val_loss: 0.1001 - val_accuracy: 0.9702\n",
      "Epoch 7/50\n",
      "1875/1875 [==============================] - 4s 2ms/step - loss: 0.1300 - accuracy: 0.9614 - val_loss: 0.1018 - val_accuracy: 0.9713\n",
      "Epoch 8/50\n",
      "1875/1875 [==============================] - 4s 2ms/step - loss: 0.1254 - accuracy: 0.9626 - val_loss: 0.1031 - val_accuracy: 0.9716\n",
      "Epoch 9/50\n",
      "1875/1875 [==============================] - 4s 2ms/step - loss: 0.1180 - accuracy: 0.9646 - val_loss: 0.0937 - val_accuracy: 0.9727\n",
      "Epoch 10/50\n",
      "1875/1875 [==============================] - 4s 2ms/step - loss: 0.1132 - accuracy: 0.9663 - val_loss: 0.0901 - val_accuracy: 0.9737\n",
      "Epoch 11/50\n",
      "1875/1875 [==============================] - 4s 2ms/step - loss: 0.1094 - accuracy: 0.9669 - val_loss: 0.0931 - val_accuracy: 0.9738\n",
      "Epoch 12/50\n",
      "1875/1875 [==============================] - 4s 2ms/step - loss: 0.1091 - accuracy: 0.9672 - val_loss: 0.0915 - val_accuracy: 0.9726\n",
      "Epoch 13/50\n",
      "1875/1875 [==============================] - 4s 2ms/step - loss: 0.1034 - accuracy: 0.9696 - val_loss: 0.0875 - val_accuracy: 0.9736\n",
      "Epoch 14/50\n",
      "1875/1875 [==============================] - 4s 2ms/step - loss: 0.0985 - accuracy: 0.9707 - val_loss: 0.0984 - val_accuracy: 0.9727\n",
      "Epoch 15/50\n",
      "1875/1875 [==============================] - 4s 2ms/step - loss: 0.0954 - accuracy: 0.9714 - val_loss: 0.0894 - val_accuracy: 0.9755\n",
      "Epoch 16/50\n",
      "1875/1875 [==============================] - 4s 2ms/step - loss: 0.0947 - accuracy: 0.9710 - val_loss: 0.0958 - val_accuracy: 0.9731\n",
      "Epoch 17/50\n",
      "1875/1875 [==============================] - 4s 2ms/step - loss: 0.0900 - accuracy: 0.9723 - val_loss: 0.0968 - val_accuracy: 0.9725\n",
      "Epoch 18/50\n",
      "1875/1875 [==============================] - 4s 2ms/step - loss: 0.0871 - accuracy: 0.9732 - val_loss: 0.0909 - val_accuracy: 0.9739\n",
      "Epoch 19/50\n",
      "1875/1875 [==============================] - 4s 2ms/step - loss: 0.0864 - accuracy: 0.9740 - val_loss: 0.0862 - val_accuracy: 0.9758\n",
      "Epoch 20/50\n",
      "1875/1875 [==============================] - 4s 2ms/step - loss: 0.0860 - accuracy: 0.9743 - val_loss: 0.0925 - val_accuracy: 0.9738\n",
      "Epoch 21/50\n",
      "1875/1875 [==============================] - 4s 2ms/step - loss: 0.0871 - accuracy: 0.9737 - val_loss: 0.1022 - val_accuracy: 0.9712\n",
      "Epoch 22/50\n",
      "1875/1875 [==============================] - 4s 2ms/step - loss: 0.0844 - accuracy: 0.9741 - val_loss: 0.0950 - val_accuracy: 0.9745\n",
      "Epoch 23/50\n",
      "1875/1875 [==============================] - 4s 2ms/step - loss: 0.0815 - accuracy: 0.9750 - val_loss: 0.0975 - val_accuracy: 0.9738\n",
      "Epoch 24/50\n",
      "1875/1875 [==============================] - 4s 2ms/step - loss: 0.0817 - accuracy: 0.9747 - val_loss: 0.0893 - val_accuracy: 0.9749\n",
      "Epoch 25/50\n",
      "1875/1875 [==============================] - 4s 2ms/step - loss: 0.0811 - accuracy: 0.9749 - val_loss: 0.0964 - val_accuracy: 0.9747\n",
      "Epoch 26/50\n",
      "1875/1875 [==============================] - 4s 2ms/step - loss: 0.0761 - accuracy: 0.9762 - val_loss: 0.0879 - val_accuracy: 0.9771\n",
      "Epoch 27/50\n",
      "1875/1875 [==============================] - 4s 2ms/step - loss: 0.0748 - accuracy: 0.9771 - val_loss: 0.0909 - val_accuracy: 0.9743\n",
      "Epoch 28/50\n",
      "1875/1875 [==============================] - 4s 2ms/step - loss: 0.0756 - accuracy: 0.9764 - val_loss: 0.0938 - val_accuracy: 0.9741\n",
      "Epoch 29/50\n",
      "1875/1875 [==============================] - 4s 2ms/step - loss: 0.0739 - accuracy: 0.9773 - val_loss: 0.0985 - val_accuracy: 0.9744\n",
      "Epoch 30/50\n",
      "1875/1875 [==============================] - 4s 2ms/step - loss: 0.0761 - accuracy: 0.9770 - val_loss: 0.0944 - val_accuracy: 0.9756\n",
      "Epoch 31/50\n",
      "1875/1875 [==============================] - 4s 2ms/step - loss: 0.0748 - accuracy: 0.9769 - val_loss: 0.0936 - val_accuracy: 0.9765\n",
      "Epoch 32/50\n",
      "1875/1875 [==============================] - 4s 2ms/step - loss: 0.0723 - accuracy: 0.9779 - val_loss: 0.1000 - val_accuracy: 0.9737\n",
      "Epoch 33/50\n",
      "1875/1875 [==============================] - 4s 2ms/step - loss: 0.0725 - accuracy: 0.9781 - val_loss: 0.0934 - val_accuracy: 0.9758\n",
      "Epoch 34/50\n",
      "1875/1875 [==============================] - 4s 2ms/step - loss: 0.0707 - accuracy: 0.9780 - val_loss: 0.1017 - val_accuracy: 0.9766\n",
      "Epoch 35/50\n",
      "1875/1875 [==============================] - 4s 2ms/step - loss: 0.0704 - accuracy: 0.9787 - val_loss: 0.0998 - val_accuracy: 0.9759\n",
      "Epoch 36/50\n",
      "1875/1875 [==============================] - 4s 2ms/step - loss: 0.0712 - accuracy: 0.9786 - val_loss: 0.0965 - val_accuracy: 0.9756\n",
      "Epoch 37/50\n",
      "1875/1875 [==============================] - 4s 2ms/step - loss: 0.0697 - accuracy: 0.9785 - val_loss: 0.0982 - val_accuracy: 0.9760\n",
      "Epoch 38/50\n",
      "1875/1875 [==============================] - 4s 2ms/step - loss: 0.0667 - accuracy: 0.9798 - val_loss: 0.1001 - val_accuracy: 0.9752\n",
      "Epoch 39/50\n",
      "1875/1875 [==============================] - 4s 2ms/step - loss: 0.0690 - accuracy: 0.9800 - val_loss: 0.0978 - val_accuracy: 0.9757\n",
      "Epoch 40/50\n",
      "1875/1875 [==============================] - 4s 2ms/step - loss: 0.0679 - accuracy: 0.9786 - val_loss: 0.1007 - val_accuracy: 0.9765\n",
      "Epoch 41/50\n",
      "1875/1875 [==============================] - 4s 2ms/step - loss: 0.0669 - accuracy: 0.9799 - val_loss: 0.1002 - val_accuracy: 0.9766\n",
      "Epoch 42/50\n",
      "1875/1875 [==============================] - 4s 2ms/step - loss: 0.0684 - accuracy: 0.9788 - val_loss: 0.0947 - val_accuracy: 0.9777\n",
      "Epoch 43/50\n",
      "1875/1875 [==============================] - 4s 2ms/step - loss: 0.0654 - accuracy: 0.9797 - val_loss: 0.0905 - val_accuracy: 0.9765\n",
      "Epoch 44/50\n",
      "1875/1875 [==============================] - 4s 2ms/step - loss: 0.0636 - accuracy: 0.9800 - val_loss: 0.1020 - val_accuracy: 0.9746\n",
      "Epoch 45/50\n",
      "1875/1875 [==============================] - 4s 2ms/step - loss: 0.0629 - accuracy: 0.9810 - val_loss: 0.0943 - val_accuracy: 0.9760\n",
      "Epoch 46/50\n",
      "1875/1875 [==============================] - 4s 2ms/step - loss: 0.0620 - accuracy: 0.9813 - val_loss: 0.0909 - val_accuracy: 0.9770\n",
      "Epoch 47/50\n",
      "1875/1875 [==============================] - 4s 2ms/step - loss: 0.0603 - accuracy: 0.9811 - val_loss: 0.1004 - val_accuracy: 0.9749\n",
      "Epoch 48/50\n",
      "1875/1875 [==============================] - 4s 2ms/step - loss: 0.0649 - accuracy: 0.9803 - val_loss: 0.0999 - val_accuracy: 0.9763\n",
      "Epoch 49/50\n",
      "1875/1875 [==============================] - 4s 2ms/step - loss: 0.0622 - accuracy: 0.9803 - val_loss: 0.0927 - val_accuracy: 0.9751\n",
      "Epoch 50/50\n",
      "1875/1875 [==============================] - 4s 2ms/step - loss: 0.0586 - accuracy: 0.9824 - val_loss: 0.0988 - val_accuracy: 0.9763\n"
     ]
    }
   ],
   "source": [
    "# Configuration of neural network parameters and training (using validation database)\n",
    "# In the historical variable we have the history of executions (error and accuracy)\n",
    "NN_model.compile(optimizer = 'adam', loss = 'categorical_crossentropy',\n",
    "               metrics = ['accuracy'])\n",
    "Neural_network = NN_model.fit(x_train, y_train, epochs = 50,\n",
    "                       validation_data = (x_test, y_test))"
   ]
  },
  {
   "cell_type": "code",
   "execution_count": 8,
   "metadata": {},
   "outputs": [
    {
     "data": {
      "text/plain": [
       "Text(0, 0.5, 'Accuracy')"
      ]
     },
     "execution_count": 8,
     "metadata": {},
     "output_type": "execute_result"
    },
    {
     "data": {
      "image/png": "[encoded data removed]",
      "text/plain": [
       "<Figure size 640x480 with 1 Axes>"
      ]
     },
     "metadata": {},
     "output_type": "display_data"
    }
   ],
   "source": [
    "# Plot the accuracy of the training and validation data\n",
    "Neural_network.history.keys()\n",
    "\n",
    "plt.plot(Neural_network.history['val_accuracy'])\n",
    "plt.xlabel('EPOCH')\n",
    "plt.ylabel('Accuracy')"
   ]
  },
  {
   "cell_type": "code",
   "execution_count": 9,
   "metadata": {},
   "outputs": [
    {
     "name": "stdout",
     "output_type": "stream",
     "text": [
      "313/313 [==============================] - 0s 1ms/step\n"
     ]
    }
   ],
   "source": [
    "# Forecast to make the confusion matrix\n",
    "forecast = NN_model.predict(x_test)\n"
   ]
  },
  {
   "cell_type": "code",
   "execution_count": 10,
   "metadata": {},
   "outputs": [
    {
     "name": "stdout",
     "output_type": "stream",
     "text": [
      "[[ 967    0    1    0    1    1    5    1    1    3]\n",
      " [   0 1125    2    1    0    1    2    0    4    0]\n",
      " [   1    3 1008    1    3    0    2    9    5    0]\n",
      " [   0    0    5  986    0    7    0    5    5    2]\n",
      " [   1    0    1    0  958    0    6    2    1   13]\n",
      " [   3    0    1   10    1  867    4    1    2    3]\n",
      " [   5    3    0    1    6    4  937    0    2    0]\n",
      " [   0    3   14    3    0    0    0  998    2    8]\n",
      " [   6    1    5    3    3    5    2    7  937    5]\n",
      " [   2    2    0    4   10    3    0    6    2  980]]\n",
      "Accuracy: 97.6 %\n"
     ]
    }
   ],
   "source": [
    "# maximum value (with the highest probability that there are 10 outputs) and \n",
    "# generation of the confusion matrix\n",
    "y_test_matrix = [np.argmax(t) for t in y_test]\n",
    "y_predictor_matrix = [np.argmax(t) for t in forecast]\n",
    "confusion = confusion_matrix(y_test_matrix, y_predictor_matrix)\n",
    "print(confusion)\n",
    "ACC = accuracy_score(y_test_matrix, y_predictor_matrix)\n",
    "print(f'Accuracy: {ACC*100:.1f} %')\n"
   ]
  },
  {
   "attachments": {},
   "cell_type": "markdown",
   "metadata": {},
   "source": [
    "PREDICT THE NUMBER DEFINED AS IMAGE"
   ]
  },
  {
   "cell_type": "code",
   "execution_count": 11,
   "metadata": {},
   "outputs": [
    {
     "name": "stdout",
     "output_type": "stream",
     "text": [
      "1/1 [==============================] - 0s 18ms/step\n"
     ]
    },
    {
     "data": {
      "text/plain": [
       "[3]"
      ]
     },
     "metadata": {},
     "output_type": "display_data"
    }
   ],
   "source": [
    "NEW = x_train[10] # number 3\n",
    "#Convert to a 1D array\n",
    "NEW = np.expand_dims(NEW, axis = 0)\n",
    "\n",
    "pred = NN_model.predict(NEW)\n",
    "#maior valor\n",
    "pred = [np.argmax(pred) for t in pred]\n",
    "display(pred)"
   ]
  }
 ],
 "metadata": {
  "jupytext": {
   "cell_metadata_filter": "-all",
   "main_language": "python",
   "notebook_metadata_filter": "-all"
  },
  "kernelspec": {
   "display_name": "Python 3",
   "language": "python",
   "name": "python3"
  },
  "language_info": {
   "codemirror_mode": {
    "name": "ipython",
    "version": 3
   },
   "file_extension": ".py",
   "mimetype": "text/x-python",
   "name": "python",
   "nbconvert_exporter": "python",
   "pygments_lexer": "ipython3",
   "version": "3.11.1"
  }
 },
 "nbformat": 4,
 "nbformat_minor": 4
}
